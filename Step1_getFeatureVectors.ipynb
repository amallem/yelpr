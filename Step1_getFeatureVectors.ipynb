{
 "cells": [
  {
   "cell_type": "code",
   "execution_count": 5,
   "metadata": {
    "collapsed": false
   },
   "outputs": [
    {
     "name": "stdout",
     "output_type": "stream",
     "text": [
      "Downloaded pre-trained CaffeNet model...\n"
     ]
    }
   ],
   "source": [
    "data_root = '/Users/mallem/Downloads/'\n",
    "caffe_root = '/Users/mallem/dev/caffe/'\n",
    "\n",
    "import numpy as np\n",
    "import sys\n",
    "sys.path.insert(0, caffe_root + 'python')\n",
    "\n",
    "import caffe\n",
    "import os\n",
    "if not os.path.isfile(caffe_root + 'models/bvlc_reference_caffenet/bvlc_reference_caffenet.caffemodel'):\n",
    "    print(\"Downloading pre-trained CaffeNet model...\")\n",
    "    !/Users/mallem/dev/caffe/scripts/download_model_binary.py /Users/mallem/dev/caffe/models/bvlc_reference_caffenet\n",
    "print(\"Downloaded pre-trained CaffeNet model...\")    "
   ]
  },
  {
   "cell_type": "code",
   "execution_count": 2,
   "metadata": {
    "collapsed": true
   },
   "outputs": [],
   "source": [
    "def extract_features(images, layer = 'fc7'):\n",
    "    net = caffe.Net(caffe_root + 'models/bvlc_reference_caffenet/deploy.prototxt',\n",
    "                caffe_root + 'models/bvlc_reference_caffenet/bvlc_reference_caffenet.caffemodel',\n",
    "                caffe.TEST)\n",
    "    \n",
    "    # input preprocessing: 'data' is the name of the input blob == net.inputs[0]\n",
    "    transformer = caffe.io.Transformer({'data': net.blobs['data'].data.shape})\n",
    "    transformer.set_transpose('data', (2,0,1))\n",
    "    transformer.set_mean('data', np.load(caffe_root + 'python/caffe/imagenet/ilsvrc_2012_mean.npy').mean(1).mean(1)) \n",
    "    transformer.set_raw_scale('data', 255)  \n",
    "    transformer.set_channel_swap('data', (2,1,0)) \n",
    "\n",
    "    num_images= len(images)\n",
    "    net.blobs['data'].reshape(num_images,3,227,227)\n",
    "    net.blobs['data'].data[...] = map(lambda x: transformer.preprocess('data',caffe.io.load_image(x)), images)\n",
    "    out = net.forward()\n",
    "\n",
    "    return net.blobs[layer].data        "
   ]
  },
  {
   "cell_type": "code",
   "execution_count": 10,
   "metadata": {
    "collapsed": false
   },
   "outputs": [
    {
     "name": "stdout",
     "output_type": "stream",
     "text": [
      "train_image_features.h5:\n",
      "feature (234842, 4096)\n",
      "photo_id (234842,)\n",
      "\n",
      "A photo: /Users/mallem/Downloads/train_photos/204149.jpg\n",
      "Its feature vector (first 50-dim):  [ 0.          0.          0.          0.          0.          0.10604793\n",
      "  0.          0.          0.          0.          0.          0.          0.\n",
      "  0.          0.          0.          0.          0.          0.          0.\n",
      "  0.          0.          0.          0.          0.          0.          0.\n",
      "  2.15204549  0.          2.70966959  0.          0.          1.56889081\n",
      "  0.          0.          0.          0.55355042  0.          0.          0.\n",
      "  0.          0.          0.          0.          0.          0.          0.\n",
      "  0.          0.          0.        ]  ...\n"
     ]
    }
   ],
   "source": [
    "f = h5py.File(data_root+'train_image_fc7features.h5','r')\n",
    "print 'train_image_features.h5:'\n",
    "for key in f.keys():\n",
    "    print key, f[key].shape\n",
    "    \n",
    "print \"\\nA photo:\", f['photo_id'][0]\n",
    "print \"Its feature vector (first 50-dim): \", f['feature'][0][0:50], \" ...\"\n",
    "f.close()"
   ]
  },
  {
   "cell_type": "code",
   "execution_count": 3,
   "metadata": {
    "collapsed": false,
    "scrolled": false
   },
   "outputs": [
    {
     "name": "stdout",
     "output_type": "stream",
     "text": [
      "Number of training images:  234842\n",
      "Train images processed:  10000\n",
      "Train images processed:  20000\n",
      "Train images processed:  30000\n",
      "Train images processed:  40000\n",
      "Train images processed:  50000\n",
      "Train images processed:  60000\n",
      "Train images processed:  70000\n",
      "Train images processed:  80000\n",
      "Train images processed:  90000\n",
      "Train images processed:  100000\n",
      "Train images processed:  110000\n",
      "Train images processed:  120000\n",
      "Train images processed:  130000\n",
      "Train images processed:  140000\n",
      "Train images processed:  150000\n",
      "Train images processed:  160000\n",
      "Train images processed:  170000\n",
      "Train images processed:  180000\n",
      "Train images processed:  190000\n",
      "Train images processed:  200000\n",
      "Train images processed:  210000\n",
      "Train images processed:  220000\n",
      "Train images processed:  230000\n",
      "Train images processed:  234842\n"
     ]
    }
   ],
   "source": [
    "# extract image features and save it to .h5\n",
    " \n",
    "import h5py\n",
    "f = h5py.File(data_root+'train_image_fc7features.h5','w')\n",
    "filenames = f.create_dataset('photo_id',(0,), maxshape=(None,),dtype='|S54')\n",
    "feature = f.create_dataset('feature',(0,4096), maxshape = (None,4096))\n",
    "f.close()\n",
    "\n",
    "import pandas as pd \n",
    "train_photos = pd.read_csv(data_root+'train_photo_to_biz_ids.csv')\n",
    "train_folder = data_root+'train_photos/'\n",
    "train_images = [os.path.join(train_folder, str(x)+'.jpg') for x in train_photos['photo_id']]  # get full filename\n",
    "\n",
    "num_train = len(train_images)\n",
    "print \"Number of training images: \", num_train\n",
    "batch_size = 500\n",
    "\n",
    "# Training Images\n",
    "for i in range(0, num_train, batch_size): \n",
    "    images = train_images[i: min(i+batch_size, num_train)]\n",
    "    features = extract_features(images, layer='fc7')\n",
    "    num_done = i+features.shape[0]\n",
    "    f= h5py.File(data_root+'train_image_fc7features.h5','r+')\n",
    "    f['photo_id'].resize((num_done,))\n",
    "    f['photo_id'][i: num_done] = np.array(images)\n",
    "    f['feature'].resize((num_done,features.shape[1]))\n",
    "    f['feature'][i: num_done, :] = features\n",
    "    f.close()\n",
    "    if num_done%10000==0 or num_done==num_train:\n",
    "        print \"Train images processed: \", num_done"
   ]
  }
 ],
 "metadata": {
  "description": "Instant recognition with a pre-trained model and a tour of the net interface for visualizing features and parameters layer-by-layer.",
  "example_name": "Image Classification and Filter Visualization",
  "include_in_docs": true,
  "kernelspec": {
   "display_name": "Python 2",
   "language": "python",
   "name": "python2"
  },
  "language_info": {
   "codemirror_mode": {
    "name": "ipython",
    "version": 2
   },
   "file_extension": ".py",
   "mimetype": "text/x-python",
   "name": "python",
   "nbconvert_exporter": "python",
   "pygments_lexer": "ipython2",
   "version": "2.7.11"
  },
  "priority": 1
 },
 "nbformat": 4,
 "nbformat_minor": 0
}
